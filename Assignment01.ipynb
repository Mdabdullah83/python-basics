{
  "nbformat": 4,
  "nbformat_minor": 0,
  "metadata": {
    "colab": {
      "provenance": []
    },
    "kernelspec": {
      "name": "python3",
      "display_name": "Python 3"
    },
    "language_info": {
      "name": "python"
    }
  },
  "cells": [
    {
      "cell_type": "markdown",
      "source": [],
      "metadata": {
        "id": "SgnICAQdtS3z"
      }
    },
    {
      "cell_type": "markdown",
      "source": [
        "\n",
        "# Q1.Explain the key features of Python that make it a popular choice for programming.\n",
        "answer-Easy to learn and read: Python has simple, clean syntax that looks almost like English, so it's beginner-friendly.\n",
        "\n",
        "Interpreted language: You don’t need to compile the code, it runs line by line which helps in easy debugging.\n",
        "\n",
        "Cross-platform: Python works on Windows, Linux, and Mac without much change in code.\n",
        "\n",
        "Huge library support: It comes with tons of modules and packages that make tasks like web development, data analysis, and automation easier.\n",
        "\n",
        "Versatile: Python is used in many fields like web development, machine learning, scripting, game development, and more.\n",
        "\n",
        "Community support: A large and active community helps with learning, sharing code, and solving problems."
      ],
      "metadata": {
        "id": "kgTwHlIKtath"
      }
    },
    {
      "cell_type": "markdown",
      "source": [
        "Q2.Describe the role of predefined keywords in Python and provide examples of how they are used in a program.\n",
        "\n",
        "answer- Predefined keywords in Python are special reserved words that have specific meanings. You can’t use them as variable names because they are used to define the structure and flow of the program.\n",
        "\n",
        "**Role of keywords:**  \n",
        "They help in writing the logic of a program like conditions, loops, defining functions, etc.\n",
        "\n",
        "**Examples of keywords:** `if`, `else`, `while`, `for`, `def`, `return`, `True`, `False`, `None`, etc.\n",
        "\n",
        "**Example in a program:**\n",
        "```python\n",
        "def check_number(num):\n",
        "    if num > 0:\n",
        "        return \"Positive\"\n",
        "    elif num == 0:\n",
        "        return \"Zero\"\n",
        "    else:\n",
        "        return \"Negative\"\n",
        "```\n",
        "\n",
        "In this example:\n",
        "- `def` is used to define a function.\n",
        "- `if`, `elif`, and `else` are used for conditional statements.\n",
        "- `return` is used to give back the result.\n",
        "\n",
        "These keywords help control the flow of the code clearly and efficiently."
      ],
      "metadata": {
        "id": "BaLQE8z5vLUA"
      }
    },
    {
      "cell_type": "code",
      "source": [],
      "metadata": {
        "id": "Cv4S1i8fuaqO"
      },
      "execution_count": null,
      "outputs": []
    },
    {
      "cell_type": "markdown",
      "source": [
        "Q3.Compare and contrast mutable and immutable objects in Python with examples.\n",
        "\n",
        "answer- In Python, **mutable** and **immutable** refer to whether an object can be changed after it is created.\n",
        "\n",
        "**Mutable objects:**  \n",
        "- These can be modified after creation.  \n",
        "- Changes affect the original object.  \n",
        "- Examples: `list`, `dict`, `set`\n",
        "\n",
        "Example:  \n",
        "```python\n",
        "my_list = [1, 2, 3]\n",
        "my_list[0] = 100\n",
        "print(my_list)  # Output: [100, 2, 3]\n",
        "```\n",
        "\n",
        "**Immutable objects:**  \n",
        "- These cannot be changed after creation.  \n",
        "- Any operation creates a new object.  \n",
        "- Examples: `int`, `float`, `str`, `tuple`\n",
        "\n",
        "Example:  \n",
        "```python\n",
        "name = \"Ali\"\n",
        "name[0] = \"B\"  # This will give an error because strings are immutable\n",
        "```\n",
        "\n",
        "**Summary:**  \n",
        "- Mutable = can change (like editing a file)  \n",
        "- Immutable = can't change (like writing with a pen)  \n",
        "\n",
        "Choosing between them depends on the situation and what kind of behavior you want in your program."
      ],
      "metadata": {
        "id": "5brYJ1cLvWQ8"
      }
    },
    {
      "cell_type": "markdown",
      "source": [
        "Q4.Discuss the different types of operators in Python and provide examples of how they are used.\n",
        "\n",
        "answer-\n",
        "\n",
        "**1. Arithmetic Operators** – Used for basic math  \n",
        "Examples: `+`, `-`, `*`, `/`, `//`, `%`, `**`  \n",
        "```python\n",
        "a = 10\n",
        "b = 3\n",
        "print(a + b)  # 13\n",
        "print(a % b)  # 1\n",
        "```\n",
        "\n",
        "**2. Comparison Operators** – Compare two values  \n",
        "Examples: `==`, `!=`, `>`, `<`, `>=`, `<=`  \n",
        "```python\n",
        "x = 5\n",
        "print(x == 5)   # True\n",
        "print(x < 3)    # False\n",
        "```\n",
        "\n",
        "**3. Logical Operators** – Combine conditions  \n",
        "Examples: `and`, `or`, `not`  \n",
        "```python\n",
        "x = 10\n",
        "print(x > 5 and x < 20)  # True\n",
        "print(not(x == 10))      # False\n",
        "```\n",
        "\n",
        "**4. Assignment Operators** – Assign or update values  \n",
        "Examples: `=`, `+=`, `-=`, `*=`, `/=`, `%=`, etc.  \n",
        "```python\n",
        "x = 5\n",
        "x += 3\n",
        "print(x)  # 8\n",
        "```\n",
        "\n",
        "**5. Bitwise Operators** – Work on binary values  \n",
        "Examples: `&`, `|`, `^`, `~`, `<<`, `>>`  \n",
        "```python\n",
        "a = 5    # 0101\n",
        "b = 3    # 0011\n",
        "print(a & b)  # 1\n",
        "```\n",
        "\n",
        "**6. Membership Operators** – Check if value is in a sequence  \n",
        "Examples: `in`, `not in`  \n",
        "```python\n",
        "fruits = [\"apple\", \"banana\"]\n",
        "print(\"apple\" in fruits)  # True\n",
        "```\n",
        "\n",
        "**7. Identity Operators** – Compare memory locations  \n",
        "Examples: `is`, `is not`  \n",
        "```python\n",
        "x = [1, 2]\n",
        "y = x\n",
        "print(x is y)  # True\n",
        "```\n",
        "\n",
        "Each operator has its own use case and helps in building logic for different types of tasks."
      ],
      "metadata": {
        "id": "vTokQS2tvmmn"
      }
    },
    {
      "cell_type": "markdown",
      "source": [
        "Q5. Explain the concept of type casting in Python with examples.\n",
        "\n",
        "answer-\n",
        "**Type casting** in Python means converting a value from one data type to another. It’s useful when you need to do operations between different types (like string to int for calculations).\n",
        "\n",
        "There are two types of type casting:\n",
        "\n",
        "**1. Implicit casting** – Python automatically converts  \n",
        "```python\n",
        "a = 5        # int\n",
        "b = 2.0      # float\n",
        "c = a + b    # result is float\n",
        "print(c)     # 7.0\n",
        "```\n",
        "\n",
        "**2. Explicit casting** – You do it manually using functions like `int()`, `float()`, `str()`, etc.  \n",
        "```python\n",
        "x = \"10\"\n",
        "y = int(x)   # string to int\n",
        "print(y + 5) # 15\n",
        "\n",
        "a = 3.5\n",
        "b = str(a)   # float to string\n",
        "print(b)     # '3.5'\n",
        "```\n",
        "\n",
        "So basically, type casting helps you work with different data types smoothly in your program."
      ],
      "metadata": {
        "id": "LwZY5N-qv1-j"
      }
    }
  ]
}